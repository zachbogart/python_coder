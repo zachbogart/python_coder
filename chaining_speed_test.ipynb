{
 "cells": [
  {
   "cell_type": "markdown",
   "metadata": {},
   "source": [
    "# Chaining Speed Test\n",
    "\n",
    "I was reading that using a chained conditional can be faster since the middle variable only has to be evaluated once. This was in \"Learning Python 5th Edition\" as well as on the Python wiki under Speed (https://wiki.python.org/moin/PythonSpeed).\n",
    "\n",
    "However, this example below seems to run counter to the above claim. I'm wondering why chaining may run slower or if there is an amount of computation required for this syntactic sugar to start improving a script's performance. Or if I am doing something that is ruining the performance gain. :)\n",
    "\n",
    "I timed a loop using chaining in a conditional (or not). I also did cases when the second statement does not need to be executed due to AND logic. In both cases, the chained version ran slightly slower. \n",
    "\n",
    "Would love some thoughts on this behavior."
   ]
  },
  {
   "cell_type": "code",
   "execution_count": 2,
   "metadata": {},
   "outputs": [],
   "source": [
    "import time"
   ]
  },
  {
   "cell_type": "markdown",
   "metadata": {},
   "source": [
    "## Check Second Statement"
   ]
  },
  {
   "cell_type": "markdown",
   "metadata": {},
   "source": [
    "### Chained"
   ]
  },
  {
   "cell_type": "code",
   "execution_count": 15,
   "metadata": {},
   "outputs": [
    {
     "name": "stdout",
     "output_type": "stream",
     "text": [
      "98.5 µs ± 2.63 µs per loop (mean ± std. dev. of 7 runs, 10000 loops each)\n"
     ]
    }
   ],
   "source": [
    "%%timeit\n",
    "\n",
    "x = 5\n",
    "y = 6 # check second statement\n",
    "z = 8\n",
    "total = 0\n",
    "\n",
    "for test in range(1000):\n",
    "    if x < y < z: # chaining\n",
    "        winner = 1\n",
    "    else:\n",
    "        winner = 0\n",
    "        \n",
    "    total += winner\n",
    "    "
   ]
  },
  {
   "cell_type": "markdown",
   "metadata": {},
   "source": [
    "### No Chain"
   ]
  },
  {
   "cell_type": "code",
   "execution_count": 16,
   "metadata": {},
   "outputs": [
    {
     "name": "stdout",
     "output_type": "stream",
     "text": [
      "93.3 µs ± 2.87 µs per loop (mean ± std. dev. of 7 runs, 10000 loops each)\n"
     ]
    }
   ],
   "source": [
    "%%timeit\n",
    "\n",
    "x = 5\n",
    "y = 6 # check second statement\n",
    "z = 8\n",
    "total = 0\n",
    "\n",
    "for test in range(1000):\n",
    "    if x < y and y < z: # no chaining\n",
    "        winner = 1\n",
    "    else:\n",
    "        winner = 0\n",
    "        \n",
    "    total += winner"
   ]
  },
  {
   "cell_type": "markdown",
   "metadata": {},
   "source": [
    "## Do NOT check second statement"
   ]
  },
  {
   "cell_type": "markdown",
   "metadata": {},
   "source": [
    "### Chained"
   ]
  },
  {
   "cell_type": "code",
   "execution_count": 17,
   "metadata": {},
   "outputs": [
    {
     "name": "stdout",
     "output_type": "stream",
     "text": [
      "79.2 µs ± 2.74 µs per loop (mean ± std. dev. of 7 runs, 10000 loops each)\n"
     ]
    }
   ],
   "source": [
    "%%timeit\n",
    "\n",
    "x = 5\n",
    "y = 3 # second statement doesn't need to be checked\n",
    "z = 8\n",
    "total = 0\n",
    "\n",
    "for test in range(1000):\n",
    "    if x < y < z: # chaining\n",
    "        winner = 1\n",
    "    else:\n",
    "        winner = 0\n",
    "        \n",
    "    total += winner"
   ]
  },
  {
   "cell_type": "markdown",
   "metadata": {},
   "source": [
    "### No Chain"
   ]
  },
  {
   "cell_type": "code",
   "execution_count": 18,
   "metadata": {},
   "outputs": [
    {
     "name": "stdout",
     "output_type": "stream",
     "text": [
      "66.3 µs ± 1.86 µs per loop (mean ± std. dev. of 7 runs, 10000 loops each)\n"
     ]
    }
   ],
   "source": [
    "%%timeit\n",
    "\n",
    "x = 5\n",
    "y = 3 # second statement doesn't need to be checked\n",
    "z = 8\n",
    "total = 0\n",
    "\n",
    "for test in range(1000):\n",
    "    if x < y and y < z: # no chaining\n",
    "        winner = 1\n",
    "    else:\n",
    "        winner = 0\n",
    "        \n",
    "    total += winner"
   ]
  },
  {
   "cell_type": "code",
   "execution_count": null,
   "metadata": {},
   "outputs": [],
   "source": []
  }
 ],
 "metadata": {
  "kernelspec": {
   "display_name": "Python 3",
   "language": "python",
   "name": "python3"
  },
  "language_info": {
   "codemirror_mode": {
    "name": "ipython",
    "version": 3
   },
   "file_extension": ".py",
   "mimetype": "text/x-python",
   "name": "python",
   "nbconvert_exporter": "python",
   "pygments_lexer": "ipython3",
   "version": "3.6.7"
  }
 },
 "nbformat": 4,
 "nbformat_minor": 2
}
